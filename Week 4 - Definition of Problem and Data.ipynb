{
    "cells": [
        {
            "metadata": {
                "collapsed": true
            },
            "cell_type": "markdown",
            "source": "# A comic book fan recently decided to open a store either in Wisconsin or Northern Illinois. They believe that one of the three major cities (Milwaukee, Madison, or Chicago) would be the best overall city. With the recent popularity of superhero and comic book movies and TV shows, the fan wants to determine if they can choose a location that is near movie theaters but far enough away from other comic book shops. The interested parties will be the owners and the bank that will provide additional funding for the project.\n\n## Although many people do not know if there is a correlation between movies and comics, in preliminary discussions with the stakeholders and the potential loan companies, they are very interested in understanding if there are comic shops available to all movie-goers. The current concern is that the average movie-goer cannot get to a comic book shop.\n\n\n\n"
        },
        {
            "metadata": {},
            "cell_type": "markdown",
            "source": "## The data used to solve this problem would be business location data found on Foursquare and map data from Folium. \n\n### We need to consider three variables: the number of shops, the number of movie theaters, how far the current comic book shops are from the movie theaters, and if there is a theater nearby.\n\n### First, we will locate all of the comic book shops in the three cities. This will require us to use the business IDs available through FourSquare\n### Second, we would do the same tactics to locate all of the movie theaters. \n### Third, we would want to determine the mean coordinate of all of the movie theaters so that we can locate our store in the middle of all of them and not focus on just one theater.\n### Fourth, we need to determine the mean distance to that mean coordinate of the current stores to see if we can place one within that distance.\n### Fifth, we w"
        }
    ],
    "metadata": {
        "kernelspec": {
            "name": "python3",
            "display_name": "Python 3.6",
            "language": "python"
        },
        "language_info": {
            "name": "python",
            "version": "3.6.8",
            "mimetype": "text/x-python",
            "codemirror_mode": {
                "name": "ipython",
                "version": 3
            },
            "pygments_lexer": "ipython3",
            "nbconvert_exporter": "python",
            "file_extension": ".py"
        }
    },
    "nbformat": 4,
    "nbformat_minor": 1
}